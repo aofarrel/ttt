{
 "cells": [
  {
   "cell_type": "markdown",
   "metadata": {},
   "source": [
    "# BYOD -- Paternity Test\n",
    " \n",
    "## Goal\n",
    "Generates a Terra data table from files that a user has uploaded into a workspace bucket, where each row represents a \"parent\" file and has cells for its \"children.\" \n",
    "\n",
    "It is named Paternity Test in the sense that parents and children are linked in the same table, where the parent is the file that links all the other related files together. What is determined to be a parent is set by the user specifying a file extension. For example, a CRAM file could be a parent, and its associated CRAI file could be considered its child. Another alternative is the parent could be a text file with information about the subject and the children could be multiple CRAM files from that subject.\n",
    "\n",
    "## Assumptions\n",
    "1) You have a psuedofolder in your Terra data section that contains BYOD data in the form of files -- see [here](https://github.com/DataBiosphere/BYOD-to-Terra/blob/anvil/full_documentation.md) for info on that  \n",
    "2) All of the files you want in your data table are in the same psuedofolder, and are not in sub-psuedofolders  \n",
    "3) You've uploaded all your files already -- Terra data tables are not dynamic, so if you want to add more later, you'll have to re-run this notebook  \n",
    "4) You are not trying to overwrite a data table you have already created. If you re-run this notebook and set TABLE_NAME to something that already exists as a Terra data table, the old table will NOT to overwritten. You will need to either pick a new name or delete the old table first.  \n",
    "5) Your files follow a naming convention either like this...  \n",
    "`NWD119844.CRAM`  \n",
    "`NWD119844.CRAM.CRAI`  \n",
    "...or this:  \n",
    "`NWD119844.CRAM`  \n",
    "`NWD119844.CRAI`  \n",
    "\n",
    "You do NOT have to have run File Finder before this notebook. **The difference between this notebook and File Finder is that File Finder will create a row for every file in your psuedofolder, while Paternity Test will create a row for every parent file.**\n",
    "\n",
    "Files that lack the parent file extension and are not children will NOT be added to the data table.\n",
    "\n",
    "## Results\n",
    "If you have one child per parent file, your output will look something like this.  \n",
    "\n",
    "| parent | URI        | child1 | child1 URI |  \n",
    "|--------|------------|--------|------------|  \n",
    "| cram1  | gs://cram1 | crai1  | gs://crai1 |  \n",
    "| cram2  | gs://cram2 | crai2  | gs://crai2 |  \n",
    "| cram3  | gs://cram3 | crai3  | gs://crai3 |  \n",
    "\n",
    "As more children are added, the number of rows will increase.  \n",
    "\n",
    "| parent | URI        | child1 | child1 URI | child2 | child2 URI |  \n",
    "|--------|------------|--------|------------|--------|------------|  \n",
    "| cram1  | gs://cram1 | crai1  | gs://crai1 | txt1   | gs://txt1  |  \n",
    "| cram2  | gs://cram2 | crai2  | gs://crai2 | txt2   | gs://txt2  |  \n",
    "| cram3  | gs://cram3 | crai3  | gs://crai3 | txt3   | gs://txt3  |  "
   ]
  },
  {
   "cell_type": "markdown",
   "metadata": {},
   "source": [
    "## Version history\n",
    "\n",
    "| v | date | author | notes |\n",
    "| --- | --- | --- | --- |\n",
    "| 0.9 | April 6th 2020 | Ash | initial |\n",
    "| 1.0 | April 13th 2020 | Ash, Lon |   fixed multiple children and no parent usecases, implemented Lon's no-pandas code + Brian and Lon's other suggestions, better intro|\n",
    "| 1.1 | April 14th 2020 | Ash |   made Pandas code significantly faster (n=3000 files split over 1 parent and 2 children: 340 s --> 165 s)|\n",
    "| 1.2 | April 27th 2020 | Ash |   fixed NameError exception notice, rearranged for clarity and consistency across notebooks|\n",
    "| 1.3 | May 19th 2020 | Ash |   better logging, indeces now zfilled, parents now sort at front in panadas code, minor clarifications|\n",
    "| 1.4 | June 8th 2020 | Ash |   vastly improved pandas code, miscellaneous fixes, removed 'Option 1' as pandas code runs at the same speed|"
   ]
  },
  {
   "cell_type": "markdown",
   "metadata": {},
   "source": [
    "# Setup"
   ]
  },
  {
   "cell_type": "markdown",
   "metadata": {},
   "source": [
    "## Imports"
   ]
  },
  {
   "cell_type": "code",
   "execution_count": null,
   "metadata": {},
   "outputs": [],
   "source": [
    "import io\n",
    "import os\n",
    "import firecloud.api as fapi\n",
    "import google.cloud.storage\n",
    "\n",
    "# Only used in multiple children use case\n",
    "import pandas as pd\n",
    "import logging"
   ]
  },
  {
   "cell_type": "markdown",
   "metadata": {},
   "source": [
    "## User-set variables"
   ]
  },
  {
   "cell_type": "code",
   "execution_count": null,
   "metadata": {},
   "outputs": [],
   "source": [
    "# Don't forgot the quotation marks!\n",
    "SUBDIRECTORY=\"/lessEdgeCases/\" # Make sure to include slashes\n",
    "TABLE_NAME=\"table-name\" #Do not include spaces or underscores\n",
    "PARENT_FILETYPE=\"cram\""
   ]
  },
  {
   "cell_type": "markdown",
   "metadata": {},
   "source": [
    "## Environmental variables"
   ]
  },
  {
   "cell_type": "code",
   "execution_count": null,
   "metadata": {},
   "outputs": [],
   "source": [
    "# You don't need to change these\n",
    "BILLING_PROJECT_ID = os.environ['GOOGLE_PROJECT']\n",
    "WORKSPACE = os.path.basename(os.path.dirname(os.getcwd()))\n",
    "BUCKET = os.environ[\"WORKSPACE_BUCKET\"]"
   ]
  },
  {
   "cell_type": "markdown",
   "metadata": {},
   "source": [
    "## Call FireCloud and set directory"
   ]
  },
  {
   "cell_type": "code",
   "execution_count": null,
   "metadata": {},
   "outputs": [],
   "source": [
    "try:\n",
    "    response = fapi.list_entity_types(BILLING_PROJECT_ID, WORKSPACE)\n",
    "    if response.status_code != 200:\n",
    "        print(\"Error in Firecloud, check your billing project ID and the name of your workspace.\")\n",
    "        raise\n",
    "    else:\n",
    "        print(\"Firecloud has found your workspace!\")\n",
    "        directory = BUCKET + SUBDIRECTORY\n",
    "except NameError:\n",
    "    print(\"Caught a NameError exception. This may mean the kernal was restarted or you didn't run \",\n",
    "          \"the cells above. Try running the cells above again.\")\n",
    "    raise"
   ]
  },
  {
   "cell_type": "markdown",
   "metadata": {},
   "source": [
    "## Display the contents of your workspace bucket (optional)\n",
    "You may want to avoid running the cell below if you have a large number of files in your bucket."
   ]
  },
  {
   "cell_type": "code",
   "execution_count": null,
   "metadata": {},
   "outputs": [],
   "source": [
    "!gsutil ls $directory"
   ]
  },
  {
   "cell_type": "markdown",
   "metadata": {},
   "source": [
    "If you get a CommandError exception here, it may be because your SUBDIRECTORY is for a psuedofolder that doesn't actually exist. Try `!gsutil ls $bucket` and make sure the directory you're looking for actally exists. If it's not there, run the Psuedofolder Maker notebook first."
   ]
  },
  {
   "cell_type": "markdown",
   "metadata": {},
   "source": [
    "## Delete placeholder file (if you used Psuedofolder Maker)\n",
    "Since there's now other files in the psuedofolder, you can delete the placeholder file that Psuedofolder Maker made in order to prevent it from showing up in your TSV."
   ]
  },
  {
   "cell_type": "code",
   "execution_count": null,
   "metadata": {},
   "outputs": [],
   "source": [
    "!gsutil rm gs${directory}placeholder"
   ]
  },
  {
   "cell_type": "markdown",
   "metadata": {},
   "source": [
    "# Do magic to create a TSV file"
   ]
  },
  {
   "cell_type": "markdown",
   "metadata": {},
   "source": [
    "The following code will create a TSV file, which follows a format used by Terra's data tables.\n",
    "### Expected runtime\n",
    "| parent files | child 1 files | child 2 files | child 3 files | estimated time |  \n",
    "| --- | --- | --- | --- | --- |\n",
    "| 1000 | 1000 | 0 | 0 | 30 seconds |  \n",
    "| 1000 | 1000 | 1000 | 1000 | 75 seconds |  "
   ]
  },
  {
   "cell_type": "markdown",
   "metadata": {},
   "source": [
    "## Setup"
   ]
  },
  {
   "cell_type": "code",
   "execution_count": null,
   "metadata": {},
   "outputs": [],
   "source": [
    "logger = logging.getLogger('')\n",
    "logger.setLevel(logging.INFO)\n",
    "storage_client = google.cloud.storage.Client()\n",
    "google_storage_prefix = 'gs://'\n",
    "if BUCKET.startswith(google_storage_prefix):\n",
    "    bucket = BUCKET[len(google_storage_prefix):]  # clip off \"gs://\" prefix\n",
    "subdirectory_chopped = SUBDIRECTORY.strip(\"/\")"
   ]
  },
  {
   "cell_type": "markdown",
   "metadata": {},
   "source": [
    "## Check number of \"children\" to link to parent\n",
    "Unlike File Finder, this parses the output of `gsutil ls` directly. **As a result, if your filenames contain non-ascii (ie, stuff besides A-Z, a-z, underscores, and dashes) or bizarre characters (ie, newlines) there is a chance this will not work as expected.**"
   ]
  },
  {
   "cell_type": "code",
   "execution_count": null,
   "metadata": {},
   "outputs": [],
   "source": [
    "# Create dataframe\n",
    "df = pd.DataFrame()\n",
    "\n",
    "# Parse output\n",
    "logging.info(\"Querying your GCS bucket for extensions...\")\n",
    "!gsutil ls $directory > ls.txt\n",
    "with open(\"ls.txt\", \"r\") as this_file:\n",
    "    df['location'] = this_file.read().splitlines()\n",
    "\n",
    "# Split on file extension and count how many child file extensions there are\n",
    "df['FileType'] = df.location.str.rsplit('.', 1).str[-1]\n",
    "unique_children = pd.unique(df[['FileType']].values.ravel(\"K\"))\n",
    "logging.info(\"{0} unique file extensions (including parent) have been found.\".format(len(unique_children)))\n",
    "unique_children = unique_children[unique_children!=PARENT_FILETYPE]\n",
    "logging.info(\"Child file types are: %s  If this looks wrong, check your GCS directory for missing or junk files.\" % unique_children)"
   ]
  },
  {
   "cell_type": "markdown",
   "metadata": {},
   "source": [
    "## Link files together"
   ]
  },
  {
   "cell_type": "code",
   "execution_count": null,
   "metadata": {},
   "outputs": [],
   "source": [
    "def progress(current_child, unique_children):\n",
    "    if current_child not in unique_children:\n",
    "        # Should never happen unless user edits code incorrectly\n",
    "        logging.error(\"Invalid child extension\")\n",
    "        raise\n",
    "    else:\n",
    "        unique_children_list = unique_children.tolist()\n",
    "        logging.info(\"\\t\\t Processing {0} files... ({1} out of {2})\".format(current_child, \n",
    "                      unique_children_list.index(current_child)+1, \n",
    "                      len(unique_children_list)))\n",
    "\n",
    "# Link parents and children; this part takes the longest\n",
    "logging.info(\"Linking parents and children...\")\n",
    "list_dfs = [] # List of dataframes, one df per child extension\n",
    "for child in unique_children:\n",
    "    list_of_list_child = []\n",
    "    progress(child, unique_children)    \n",
    "    for blob in storage_client.list_blobs(bucket, prefix=subdirectory_chopped):\n",
    "        if blob.name.endswith(PARENT_FILETYPE):\n",
    "            # remove PARENT_FILETYPE extension and search for basename\n",
    "            basename = blob.name[:-len(f'.{PARENT_FILETYPE}')]\n",
    "            for basename_blob in storage_client.list_blobs(bucket, prefix=basename):\n",
    "                if basename_blob.name.endswith(child):\n",
    "                    parent_filename = blob.name.split('/')[-1]\n",
    "                    child_filename = basename_blob.name.split('/')[-1]\n",
    "                    parent_location = f'{google_storage_prefix}{bucket}/{blob.name}'\n",
    "                    child_location  = f'{google_storage_prefix}{bucket}/{basename_blob.name}'\n",
    "                    list_child = ([parent_filename, parent_location, child_filename, child_location])\n",
    "                    list_of_list_child.append(list_child)\n",
    "                    # If no child is found, the parent will not be added to the df at all\n",
    "    df_child = pd.DataFrame(list_of_list_child, columns=['parentFile', 'parentLocation',child+'File', child+'Location'])\n",
    "    list_dfs.append(df_child)"
   ]
  },
  {
   "cell_type": "markdown",
   "metadata": {},
   "source": [
    "## Merge dataframes on shared \"parent\" file"
   ]
  },
  {
   "cell_type": "code",
   "execution_count": null,
   "metadata": {},
   "outputs": [],
   "source": [
    "logging.info(\"Merging dataframes...\")\n",
    "merged_df = pd.DataFrame()\n",
    "for df in list_dfs:\n",
    "    try:\n",
    "        merged_df = merged_df.merge(df, on=['parentFile', 'parentLocation'])\n",
    "    except KeyError:\n",
    "        # Should only happen first iteration\n",
    "        merged_df = df\n",
    "logging.info(\"Finished!\")"
   ]
  },
  {
   "cell_type": "markdown",
   "metadata": {},
   "source": [
    "## Inspect dataframe (optional)"
   ]
  },
  {
   "cell_type": "markdown",
   "metadata": {},
   "source": [
    "Panadas will not display all of your rows if there are many of them."
   ]
  },
  {
   "cell_type": "code",
   "execution_count": null,
   "metadata": {},
   "outputs": [],
   "source": [
    "print(merged_df)"
   ]
  },
  {
   "cell_type": "markdown",
   "metadata": {},
   "source": [
    "## Generate TSV file from dataframe and upload it"
   ]
  },
  {
   "cell_type": "code",
   "execution_count": null,
   "metadata": {},
   "outputs": [],
   "source": [
    "merged_df.to_csv(\"dataframe.tsv\", sep='\\t')\n",
    "\n",
    "# Format resulting TSV file to play nicely with Terra \n",
    "with open('dataframe.tsv', \"r+\") as file1:\n",
    "    header = file1.readline()\n",
    "    everything_else = file1.readlines()\n",
    "full_header=\"entity:\"+TABLE_NAME+\"_id\"+header\n",
    "with open('final.tsv', \"a\") as file2:\n",
    "    file2.write(full_header)\n",
    "    for string in everything_else:\n",
    "        # Zfill the index\n",
    "        columns = string.split('\\t')\n",
    "        columns[0] = columns[0].zfill(5)\n",
    "        file2.write('\\t'.join(columns))\n",
    "    \n",
    "# Clean up\n",
    "response = fapi.upload_entities_tsv(BILLING_PROJECT_ID, WORKSPACE, \"final.tsv\", \"flexible\")\n",
    "fapi._check_response_code(response, 200)\n",
    "!head final.tsv\n",
    "!rm dataframe.tsv\n",
    "!rm final.tsv"
   ]
  },
  {
   "cell_type": "markdown",
   "metadata": {},
   "source": [
    "Now, in your data section, you will see a new table with the name you set as the value of `TABLE_NAME`."
   ]
  }
 ],
 "metadata": {
  "kernelspec": {
   "display_name": "Python 3",
   "language": "python",
   "name": "python3"
  },
  "language_info": {
   "codemirror_mode": {
    "name": "ipython",
    "version": 3
   },
   "file_extension": ".py",
   "mimetype": "text/x-python",
   "name": "python",
   "nbconvert_exporter": "python",
   "pygments_lexer": "ipython3",
   "version": "3.7.7"
  },
  "toc": {
   "base_numbering": 1,
   "nav_menu": {},
   "number_sections": true,
   "sideBar": true,
   "skip_h1_title": false,
   "title_cell": "Table of Contents",
   "title_sidebar": "Contents",
   "toc_cell": false,
   "toc_position": {},
   "toc_section_display": true,
   "toc_window_display": false
  }
 },
 "nbformat": 4,
 "nbformat_minor": 2
}
