{
 "cells": [
  {
   "cell_type": "markdown",
   "metadata": {},
   "source": [
    "# Drops in a Bucket\n",
    "Debug notebook for generating thousands of test files and putting them in a Google Bucket."
   ]
  },
  {
   "cell_type": "code",
   "execution_count": null,
   "metadata": {},
   "outputs": [],
   "source": [
    "!rm -rf ./file*\n",
    "!gsutil rm $BUCKET/thousandcrai/*\n",
    "import os\n",
    "from firecloud import fiss\n",
    "from firecloud.errors import FireCloudServerError\n",
    "import firecloud.api as fapi\n",
    "BILLING_PROJECT_ID = os.environ['GOOGLE_PROJECT']\n",
    "WORKSPACE = os.path.basename(os.path.dirname(os.getcwd()))\n",
    "BUCKET = os.environ[\"WORKSPACE_BUCKET\"]\n",
    "for i in range(1000):\n",
    "    #with open('file%0.3d.rubbish' %i,'w') as fd:\n",
    "        #fd.write('child file alphabetically after parent file')\n",
    "    with open('file%0.3d.cram' %i,'w') as fd:\n",
    "        fd.write('parent file')\n",
    "    with open('file%0.3d.crai' %i,'w') as fd:\n",
    "        fd.write('child file alphabetically before parent file')\n",
    "    #with open('file%0.3d.cram2' %i,'w') as fd:\n",
    "        #fd.write('child file containing parent file extension')\n",
    "    #with open('file%0.3d.cram.zip' %i,'w') as fd:\n",
    "        #fd.write('fake zip file')\n",
    "!gsutil cp -r ./file* $BUCKET/thousandcrai"
   ]
  },
  {
   "cell_type": "code",
   "execution_count": null,
   "metadata": {},
   "outputs": [],
   "source": [
    "# For those of you who want to watch the world burn\n",
    "while True:\n",
    "    !ls"
   ]
  }
 ],
 "metadata": {
  "kernelspec": {
   "display_name": "Python 3",
   "language": "python",
   "name": "python3"
  },
  "language_info": {
   "codemirror_mode": {
    "name": "ipython",
    "version": 3
   },
   "file_extension": ".py",
   "mimetype": "text/x-python",
   "name": "python",
   "nbconvert_exporter": "python",
   "pygments_lexer": "ipython3",
   "version": "3.7.7"
  },
  "toc": {
   "base_numbering": 1,
   "nav_menu": {},
   "number_sections": true,
   "sideBar": true,
   "skip_h1_title": false,
   "title_cell": "Table of Contents",
   "title_sidebar": "Contents",
   "toc_cell": false,
   "toc_position": {},
   "toc_section_display": true,
   "toc_window_display": false
  }
 },
 "nbformat": 4,
 "nbformat_minor": 2
}
