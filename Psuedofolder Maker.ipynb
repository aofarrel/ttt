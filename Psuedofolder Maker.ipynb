{
 "cells": [
  {
   "cell_type": "markdown",
   "metadata": {},
   "source": [
    "# Introduction\n",
    "Google Cloud Storage is a great tool, but it has an odd way of handling folders. That is to say, it doesn't. There is no equivalent of `mkdir` in Google Cloud Storage. Luckily, with a few tricks, we can get around this limitation and create a psuedofolder in your workspace's data section, helping keep your BYOD files organized.\n",
    "\n",
    "Please be sure to read the use case below -- **this notebook is *not* needed in most BYOD cases.** It is being provided only for the few use cases it does benefit, and to shed light on how Google Cloud Storage's file system works."
   ]
  },
  {
   "cell_type": "markdown",
   "metadata": {},
   "source": [
    "Version history:\n",
    "\n",
    "| v | date | author | notes |\n",
    "| --- | --- | --- | --- |\n",
    "| 0.9 | April 3rd 2020 | Ash | initial |\n",
    "| 1.0 | April 8th 2020 | Ash | now calls environmental variables, fixed notes on kernal restarting, more explanation\n",
    "| 1.1 | May 18th 2020 | Ash | clarified use case, changed name from Folder Maker to more accurate Psuedofolder Maker"
   ]
  },
  {
   "cell_type": "markdown",
   "metadata": {},
   "source": [
    "## Use case\n",
    "If you will be using gsutil to move your files into your workspace bucket, *you do not need this notebook.* Instead, simply add the desired folder name to your gsutil cp command, such as `gsutil cp gs://source/file.cram gs://destination/desired_folder_name/file.cram`, to create the desired psuedofolder. Biodata Catalyst users who are importing data from Gen3 also have no use for this notebook.\n",
    "\n",
    "**This notebook's rare use case is for those who cannot transfer files into a Google Bucket using gsutil for one reason or another, such as those who cannot use gsutil on their own machine and are dealing with files too large for Terra's version of gsutil to work with.** Such users might be using Terra's UI or one of the more obscure BYOD methods.\n",
    "\n",
    "This is the only notebook in the BYOD notebook suite that is meant to be run *before* actually moving your files into your bucket. All other provided notebooks are meant to be run *after* the files are in place."
   ]
  },
  {
   "cell_type": "markdown",
   "metadata": {},
   "source": [
    "## A little more info on \"psuedofolders\"\n",
    "This explanation is only given to explain why there's no `mkdir` for GCS and why a notebook is required for what would otherwise be a simple task. It is optional reading.\n",
    "\n",
    "Essentially, Google Cloud Storage does not store files in folders. Everything in your bucket is in the same directory. However, some platforms (such as Terra) want to use something like folders for organization and because a folder-based filesystem is what most people are used to working with. \n",
    "So, when Terra encounters something with this filename in Google Cloud Storage:\n",
    "`gs://fc-secure-82547374-8637-40cd-aae9-4fae154291d3/test_files/sample.txt`\n",
    "Rather than reporting the truth, ie, that a file named `test_files/sample.txt` exists in `gs://fc-secure-82547374-8637-40cd-aae9-4fae154291d3`, it shows the user a \"folder\" named `test_files` and within that \"folder\" exists `sample.txt`. So when we say `test_files` is a psuedofolder, that's what we mean. For all intents and purposes, you don't need to worry about this, as both Google Cloud Storage and Terra will \"act\" as if these are actual folders. So any scripts you have that work on a folder basis, such as the ones used in Paternity Test and other notebooks in this workspace, will work just as you expect."
   ]
  },
  {
   "cell_type": "markdown",
   "metadata": {},
   "source": [
    "# Imports"
   ]
  },
  {
   "cell_type": "code",
   "execution_count": null,
   "metadata": {},
   "outputs": [],
   "source": [
    "import os\n",
    "from firecloud import fiss\n",
    "from firecloud.errors import FireCloudServerError\n",
    "import firecloud.api as fapi"
   ]
  },
  {
   "cell_type": "markdown",
   "metadata": {},
   "source": [
    "# Environmental variables"
   ]
  },
  {
   "cell_type": "code",
   "execution_count": null,
   "metadata": {},
   "outputs": [],
   "source": [
    "BILLING_PROJECT_ID = os.environ['GOOGLE_PROJECT']\n",
    "WORKSPACE = os.path.basename(os.path.dirname(os.getcwd()))\n",
    "BUCKET = os.environ[\"WORKSPACE_BUCKET\"]"
   ]
  },
  {
   "cell_type": "markdown",
   "metadata": {},
   "source": [
    "# User-Defined variables"
   ]
  },
  {
   "cell_type": "markdown",
   "metadata": {},
   "source": [
    "Enter the name of your folder here. Don't use special characters or whitespace. Do not add any slashes to it."
   ]
  },
  {
   "cell_type": "code",
   "execution_count": null,
   "metadata": {},
   "outputs": [],
   "source": [
    "FOLDER_NAME=\"test_files\""
   ]
  },
  {
   "cell_type": "markdown",
   "metadata": {},
   "source": [
    "# The actual code"
   ]
  },
  {
   "cell_type": "markdown",
   "metadata": {},
   "source": [
    "First of all, we check to make sure Firecloud can find your workspace. If so, a folder is created on the \"local\" \"disc\" that the Jupyter notebook is running on. A blank placeholder file is placed into this \"local\" folder. It is then uploaded to Google Cloud Storage. This creates a psuedofolder with the placeholder file inside of it."
   ]
  },
  {
   "cell_type": "code",
   "execution_count": null,
   "metadata": {},
   "outputs": [],
   "source": [
    "try:\n",
    "    response = fapi.list_entity_types(BILLING_PROJECT_ID, WORKSPACE)\n",
    "    if response.status_code != 200:\n",
    "        print(\"Error in Firecloud, check your billing project ID and the name of your workspace.\")\n",
    "    else:\n",
    "        print(\"Firecloud has found your workspace!\")\n",
    "        !mkdir $FOLDER_NAME\n",
    "        !touch $FOLDER_NAME/placeholder\n",
    "        !gsutil cp -r $FOLDER_NAME $BUCKET\n",
    "except NameError:\n",
    "    print(\"Caught a NameError exception. This may mean the kernal was restarted or you didn't run \",\n",
    "          \"the cells above. Try running the cells above again.\")"
   ]
  },
  {
   "cell_type": "markdown",
   "metadata": {},
   "source": [
    "Ta-da! You can now find your psuedofolder in the data section of your workspace. It is also accessible from Terra's terminal and Jupyter notebooks. Note that this directory is also used for workflow runs, so you will see a folder here for every time you have run a workflow in this workspace."
   ]
  },
  {
   "cell_type": "code",
   "execution_count": null,
   "metadata": {},
   "outputs": [],
   "source": [
    "!gsutil ls $BUCKET"
   ]
  },
  {
   "cell_type": "markdown",
   "metadata": {},
   "source": [
    "Now, let's peek inside the new psuedofolder itself. This should only have one file in it."
   ]
  },
  {
   "cell_type": "code",
   "execution_count": null,
   "metadata": {
    "scrolled": true
   },
   "outputs": [],
   "source": [
    "directory = BUCKET +\"/\"+FOLDER_NAME+\"/\"\n",
    "!gsutil ls $directory"
   ]
  },
  {
   "cell_type": "markdown",
   "metadata": {},
   "source": [
    "# Cleanup"
   ]
  },
  {
   "cell_type": "markdown",
   "metadata": {},
   "source": [
    "Note that your folder now contains an empty file called \"placeholder.\" **If you delete it and nothing else is present in the psuedofolder, the psuedofolder will no longer exist, ie, there is no such thing as an empty psuedofolder.** If you wish to delete the placeholder file **after** putting other things into the folder, please run this box below:"
   ]
  },
  {
   "cell_type": "code",
   "execution_count": null,
   "metadata": {},
   "outputs": [],
   "source": [
    "!gsutil rm $BUCKET/$FOLDER_NAME/placeholder"
   ]
  }
 ],
 "metadata": {
  "kernelspec": {
   "display_name": "Python 3",
   "language": "python",
   "name": "python3"
  },
  "language_info": {
   "codemirror_mode": {
    "name": "ipython",
    "version": 3
   },
   "file_extension": ".py",
   "mimetype": "text/x-python",
   "name": "python",
   "nbconvert_exporter": "python",
   "pygments_lexer": "ipython3",
   "version": "3.7.7"
  },
  "toc": {
   "base_numbering": 1,
   "nav_menu": {},
   "number_sections": true,
   "sideBar": true,
   "skip_h1_title": false,
   "title_cell": "Table of Contents",
   "title_sidebar": "Contents",
   "toc_cell": false,
   "toc_position": {},
   "toc_section_display": true,
   "toc_window_display": false
  }
 },
 "nbformat": 4,
 "nbformat_minor": 2
}
