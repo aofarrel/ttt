{
 "cells": [
  {
   "cell_type": "markdown",
   "metadata": {},
   "source": [
    "# BYODGen3 Extended\n",
    "\n",
    "Like BYODGen3 classic, this combines a BYOD table with Gen3 data. Unlike BYODGen3 classic, it attempts to perform the monumental task of combing ALL of the most common BYOD data types (CRAM, CRAI, VCF, CSI) from a Paternity Test created BYOD table with ALL Gen3 genotypic data tables."
   ]
  },
  {
   "cell_type": "markdown",
   "metadata": {},
   "source": [
    "|        Data Table         | Have object_ID?| Parent                 | File ext |\n",
    "|---------------------------|----------------|------------------------|----------|\n",
    "| aligned_reads_index       | Y              | submitted_aligned_reads | CRAI     |\n",
    "| aliquot                   | N              |           sample        | -        |\n",
    "| germline_variation_index  | Y              |simple_germline_variation| CSI      |\n",
    "| program                   | N              |    N/A (top level)      | -        |\n",
    "| project                   | N              |        program          | -        |\n",
    "| read_group                | N              |           aliquot       | -        |\n",
    "| reference_file            | Y              |             project     | various  |\n",
    "| simple_germline_variation | Y              |submitted_aligned_reads  | VCF      |\n",
    "| study                     | N              |         project         | -        |\n",
    "| subject                   | N              |         study           | -        |\n",
    "| submitted_aligned_reads   | Y              |      read_group         | CRAM     |\n"
   ]
  },
  {
   "cell_type": "markdown",
   "metadata": {},
   "source": [
    "We will first be going over a use case in which one Gen3 table is combined with one BYOD table."
   ]
  },
  {
   "cell_type": "markdown",
   "metadata": {},
   "source": [
    "# Setup"
   ]
  },
  {
   "cell_type": "code",
   "execution_count": null,
   "metadata": {
    "scrolled": true
   },
   "outputs": [],
   "source": [
    "!pip install tenacity"
   ]
  },
  {
   "cell_type": "markdown",
   "metadata": {},
   "source": [
    "You may have to restart the kernal after installing tenacity."
   ]
  },
  {
   "cell_type": "markdown",
   "metadata": {},
   "source": [
    "## Run terra-data-utils"
   ]
  },
  {
   "cell_type": "markdown",
   "metadata": {},
   "source": [
    "Note to developers: If you change terra_data_util_update.ipynb, you may notice unexpected behavior even if you re-run this cell after making changes to terra_data_util_update.ipynb. To resolve this, try running the cell below two more times. If it still doesn't update, go to your edited notebook and try running the cell you changed. Even if it errors out (such as you not running an import cell it relies upon earlier), return back here and *now* it should update correctly here."
   ]
  },
  {
   "cell_type": "code",
   "execution_count": null,
   "metadata": {},
   "outputs": [],
   "source": [
    "#Run the companion notebook. Note: it must be in the same workspace you are currently working in.\n",
    "%run terra_data_util_update.ipynb"
   ]
  },
  {
   "cell_type": "markdown",
   "metadata": {},
   "source": [
    "## User-set variables"
   ]
  },
  {
   "cell_type": "code",
   "execution_count": null,
   "metadata": {},
   "outputs": [],
   "source": [
    "# Don't forgot the quotation marks!\n",
    "BYOD_TABLE=\"CRAMs\"\n",
    "OUTPUT_TABLE=\"craipilation\" #Do not include spaces or weird characters"
   ]
  },
  {
   "cell_type": "markdown",
   "metadata": {},
   "source": [
    "## Environmental variables"
   ]
  },
  {
   "cell_type": "code",
   "execution_count": null,
   "metadata": {},
   "outputs": [],
   "source": [
    "BILLING_PROJECT_ID = os.environ['GOOGLE_PROJECT']\n",
    "WORKSPACE = os.path.basename(os.path.dirname(os.getcwd()))\n",
    "BUCKET = os.environ[\"WORKSPACE_BUCKET\"]"
   ]
  },
  {
   "cell_type": "markdown",
   "metadata": {},
   "source": [
    "## Call Firecloud"
   ]
  },
  {
   "cell_type": "code",
   "execution_count": null,
   "metadata": {},
   "outputs": [],
   "source": [
    "try:\n",
    "    response = fapi.list_entity_types(BILLING_PROJECT_ID, WORKSPACE)\n",
    "    if response.status_code != 200:\n",
    "        print(\"Error in Firecloud, check your billing project ID and the name of your workspace.\")\n",
    "        raise\n",
    "    else:\n",
    "        print(\"Firecloud has found your workspace!\")\n",
    "except NameError:\n",
    "    print(\"Caught a NameError exception. This may mean the kernal was restarted or you didn't run \",\n",
    "          \"the cells above. Try running the cells above again.\")\n",
    "    raise"
   ]
  },
  {
   "cell_type": "markdown",
   "metadata": {},
   "source": [
    "## Check data table importing"
   ]
  },
  {
   "cell_type": "markdown",
   "metadata": {},
   "source": [
    "This will print out out a datatable respresenting the \"program\" table in Terra from Gen3. Assuming you imported only one TOPMed project, this should be just one row (plus the header row)."
   ]
  },
  {
   "cell_type": "code",
   "execution_count": null,
   "metadata": {},
   "outputs": [],
   "source": [
    "try:\n",
    "    gen3df = get_gen3_terra_table_to_df(BILLING_PROJECT_ID, WORKSPACE, \"program\")\n",
    "except FireCloudServiceException:\n",
    "    print(\"Caught an exception. Check the Data section of this workspace and make sure there is \",\n",
    "          \"a data table called ''program'' that was imported from Gen3.\")\n",
    "    raise\n",
    "try:\n",
    "    byod = get_gen3_terra_table_to_df(BILLING_PROJECT_ID, WORKSPACE, BYOD_TABLE)\n",
    "    print(\"Successfully found a Gen3 table and a BYOD table.\")\n",
    "except FireCloudServiceException:\n",
    "    print(\"We successfully called the Program data table but not the BYOD one. Make sure your \",\n",
    "          \"BYOD table actually exsits and its name has been set correctly as BYOD_TABLE.\")\n",
    "    raise"
   ]
  },
  {
   "cell_type": "markdown",
   "metadata": {},
   "source": [
    "# Combine one data BYOD data table with one Gen3 data table\n",
    "\n",
    "If you're only working with one type of file, such as CRAMs, it isn't worth your time (real and computational) to combine all of your Gen3 data into one massive table.\n",
    "\n",
    "For example: Let's say we want to combine a BYOD datatable of CRAMs that has the columns CRAMs_entity_id and CRAMs_file_location which represent the filename and gs:// location of your files respectively. In Terra's data view, it looks like this:\n",
    "\n",
    "| CRAMs_id | file_location |\n",
    "|-------|------------|\n",
    "| cram1 | gs://cram1 |\n",
    "| cram2 | gs://cram2 |\n",
    "| cram3 | gs://cram3 |\n",
    "| cram4 | gs://cram4 |\n",
    "\n",
    "\n",
    "Gen3's data tables follow a consistent format, so we already know the table containing CRAMs will be called submitted_aligned_reads with filenames in the column submitted_aligned_reads_file_name and DRS URIs in the column submitted_aligned_reads_object_id. If we ignore most of the metadata columns, which are irrelevant to the vast majority of workflows, the Gen3 table looks like this:\n",
    "\n",
    "| file_name | object_id |submitted_aligned_reads_project_id\n",
    "|-------|------------| ----------|\n",
    "| cramA | drs://cramA |TOPMED-sample |\n",
    "| cramB | drs://cramB |TOPMED-sample |\n",
    "| cramC | drs://cramC |TOPMED-sample |\n",
    "| cramD | drs://cramD |TOPMED-sample |\n",
    "\n",
    "As you can see, both the BYOD table and the Gen3 table have a column representing the file name, and a column representing where that file lives. Therefore, combining those tables will give us something like this:\n",
    "\n",
    "| filename | location |project\n",
    "|-------|------------| ----------|\n",
    "| cram1 | gs://cram1 | N/A |\n",
    "| cram2 | gs://cram2 | N/A |\n",
    "| cram3 | gs://cram3 | N/A |\n",
    "| cram4 | gs://cram4 | N/A |\n",
    "| cramA | drs://cramA |TOPMED-sample |\n",
    "| cramB | drs://cramB |TOPMED-sample |\n",
    "| cramC | drs://cramC |TOPMED-sample |\n",
    "| cramD | drs://cramD |TOPMED-sample |"
   ]
  },
  {
   "cell_type": "markdown",
   "metadata": {},
   "source": [
    "## Choose your file type\n",
    "Set FILETYPE to either 0, 1, 2, or 3.\n",
    "\n",
    "* 0 --> CRAMs   --> will combine with Gen3 table named `submitted_aligned_reads`\n",
    "* 1 --> CRAIs   --> will combine with Gen3 table named `aligned_reads_index`\n",
    "* 2 --> VCFs    --> will combine with Gen3 table named `simple_germline_variation`\n",
    "* 3 --> CSIs    --> will combine with Gen3 table named `germline_variation_index`"
   ]
  },
  {
   "cell_type": "code",
   "execution_count": null,
   "metadata": {},
   "outputs": [],
   "source": [
    "FILETYPE = 3\n",
    "\n",
    "filetype_list = [\"submitted_aligned_reads\", \"aligned_reads_index\", \n",
    "                \"simple_germline_variation\", \"germline_variation_index\"]\n"
   ]
  },
  {
   "cell_type": "code",
   "execution_count": null,
   "metadata": {},
   "outputs": [],
   "source": [
    "# Call the BYOD datatable we made with File Finder earlier\n",
    "byod = get_gen3_terra_table_to_df(BILLING_PROJECT_ID, WORKSPACE, BYOD_TABLE)\n",
    "\n",
    "# Rename the columns\n",
    "byod = byod.rename(columns={BYOD_TABLE+\"_entity_id\":\"filename\", BYOD_TABLE+\"_file_location\":\"location\"})\n",
    "if \"filename\" in list(byod.columns.values):\n",
    "    if \"location\" in list(byod.columns.values):\n",
    "        print(\"Successfully set up BYOD dataframe\")\n",
    "    else:\n",
    "        print(\"Found data table but failed to rename filename column.\",\n",
    "              \"Check names of columns on BYOD Terra data table using\",\n",
    "              \"print(byod)\")\n",
    "        raise NameError\n",
    "else:\n",
    "    print(\"Found data table but failed to rename file_location column.\",\n",
    "          \"Check names of columns on BYOD Terra data table using\",\n",
    "          \"print(byod)\")\n",
    "    raise NameError"
   ]
  },
  {
   "cell_type": "markdown",
   "metadata": {},
   "source": [
    "## Call Gen3 Dataframe"
   ]
  },
  {
   "cell_type": "code",
   "execution_count": null,
   "metadata": {},
   "outputs": [],
   "source": [
    "gen3df = get_gen3_terra_table_to_df(BILLING_PROJECT_ID, WORKSPACE, filetype_list[FILETYPE])"
   ]
  },
  {
   "cell_type": "markdown",
   "metadata": {},
   "source": [
    "### Add a metadata column (optional)\n",
    "It might be useful to keep track of which data comes from where. This can be done by eye by just checking which rows are empty to the column \"project\" or by seeing which rows have gs:// URIs instead of drs:// URIs. But for some use cases it might be simplier to just add our own metadata in the form of a column. Once we perform the merge, our table will look a bit like this:\n",
    "\n",
    "| filename | location |project | source |\n",
    "|-------|------------ | ---------| ---- |\n",
    "| cram1 | gs://cram1  | N/A | byod |\n",
    "| cram2 | gs://cram2  | N/A | byod |\n",
    "| cram3 | gs://cram3  | N/A | byod |\n",
    "| cram4 | gs://cram4  | N/A | byod |\n",
    "| cramA | drs://cramA |TOPMED-sample | gen3 |\n",
    "| cramB | drs://cramB |TOPMED-sample | gen3 |\n",
    "| cramC | drs://cramC |TOPMED-sample | gen3 |\n",
    "| cramD | drs://cramD |TOPMED-sample | gen3 |"
   ]
  },
  {
   "cell_type": "code",
   "execution_count": null,
   "metadata": {},
   "outputs": [],
   "source": [
    "source = [\"byod\" for x in range(byod.shape[0])]\n",
    "byod.insert(2, \"source\", source)\n",
    "source = [\"gen3\" for x in range(gen3df.shape[0])]\n",
    "gen3df.insert(2, \"source\", source)"
   ]
  },
  {
   "cell_type": "markdown",
   "metadata": {},
   "source": [
    "## Perform the merge"
   ]
  },
  {
   "cell_type": "code",
   "execution_count": null,
   "metadata": {},
   "outputs": [],
   "source": [
    "if FILETYPE == 0:\n",
    "    gen3df = gen3df.rename(columns={\"submitted_aligned_reads_file_name\":\"filename\", \n",
    "                                            \"submitted_aligned_reads_object_id\":\"location\"})\n",
    "if FILETYPE == 1:\n",
    "    gen3df = gen3df.rename(columns={\"aligned_reads_index_file_name\":\"filename\", \n",
    "                                            \"aligned_reads_index_object_id\":\"location\"})\n",
    "if FILETYPE == 2:\n",
    "    gen3df = gen3df.rename(columns={\"simple_germline_variation_file_name\":\"filename\", \n",
    "                                            \"simple_germline_variation_object_id\":\"location\"})\n",
    "if FILETYPE == 3:\n",
    "    gen3df = gen3df.rename(columns={\"germline_variation_index_file_name\":\"filename\", \n",
    "                                            \"germline_variation_index_object_id\":\"location\"})\n",
    "\n",
    "dfs = [byod, gen3df]\n",
    "merged = pd.concat(dfs, sort=True)"
   ]
  },
  {
   "cell_type": "markdown",
   "metadata": {},
   "source": [
    "Nice! Now we have have both of our dataframes together as one. We can verify by checking the size of each dataframe."
   ]
  },
  {
   "cell_type": "code",
   "execution_count": null,
   "metadata": {},
   "outputs": [],
   "source": [
    "if byod.shape[0] + gen3df.shape[0] == merged.shape[0]:\n",
    "    print(\"Great success!\")\n",
    "else:\n",
    "    raise TypeError(\"Error - row mismatch. Check the structure of your database from the previous step.\")"
   ]
  },
  {
   "cell_type": "markdown",
   "metadata": {},
   "source": [
    "You can also inspect the dataframe by printing it."
   ]
  },
  {
   "cell_type": "code",
   "execution_count": null,
   "metadata": {},
   "outputs": [],
   "source": [
    "print(merged)"
   ]
  },
  {
   "cell_type": "markdown",
   "metadata": {},
   "source": [
    "## Cleanup Dataframe (Optional)\n",
    "Terra data tables come with a lot of metadata. Your files probably don't. The vast majority of workflows ignore these metadata columns, so we've provided code to remove them. This section is of course optional and you should skip it if you need every column in your final tables."
   ]
  },
  {
   "cell_type": "code",
   "execution_count": null,
   "metadata": {},
   "outputs": [],
   "source": [
    "which_columns = [\n",
    "    ['submitted_aligned_reads_created_datetime',\n",
    "               'submitted_aligned_reads_data_category', 'submitted_aligned_reads_data_format',\n",
    "               'submitted_aligned_reads_data_type', 'submitted_aligned_reads_experimental_strategy',\n",
    "               'submitted_aligned_reads_file_state', 'submitted_aligned_reads_file_size',\n",
    "               'submitted_aligned_reads_state','submitted_aligned_reads_updated_datetime'],\n",
    "    ['aligned_reads_index_created_datetime',\n",
    "               'aligned_reads_index_data_category', 'aligned_reads_index_data_format',\n",
    "               'aligned_reads_index_data_type', 'aligned_reads_index_updated_datetime',\n",
    "               'aligned_reads_index_file_state', 'aligned_reads_index_file_size',\n",
    "               'aligned_reads_index_state', 'aligned_reads_index_submitter_id'],\n",
    "    ['simple_germline_variation_created_datetime', 'simple_germline_variation_submitter_id',\n",
    "               'simple_germline_variation_data_category', 'simple_germline_variation_data_format',\n",
    "               'simple_germline_variation_data_type', 'simple_germline_variation_experimental_strategy',\n",
    "               'simple_germline_variation_file_state', 'simple_germline_variation_file_size',\n",
    "               'simple_germline_variation_state','simple_germline_variation_updated_datetime'],\n",
    "    ['germline_variation_index_created_datetime',\n",
    "               'germline_variation_index_data_category', 'germline_variation_index_data_format',\n",
    "               'germline_variation_index_data_type', 'germline_variation_index_updated_datetime',\n",
    "               'germline_variation_index_file_state', 'germline_variation_index_file_size',\n",
    "               'germline_variation_index_state', 'germline_variation_index_submitter_id']\n",
    "]\n",
    "\n",
    "merged.drop(columns=which_columns[FILETYPE],inplace=True)"
   ]
  },
  {
   "cell_type": "markdown",
   "metadata": {},
   "source": [
    "## Upload Dataframe to Terra\n",
    "Now, let's upload our dataframe to Terra as a data table."
   ]
  },
  {
   "cell_type": "code",
   "execution_count": null,
   "metadata": {},
   "outputs": [],
   "source": [
    "!rm merged.tsv\n",
    "# ^ Uncomment above line if you will be running this block more than once\n",
    "\n",
    "# Reset index, which currently likely has repeats due to how dataframe merging works\n",
    "merged.reset_index(drop=True, inplace=True)\n",
    "# Save dataframe to a TSV (uses same function as CSV but with different sep)\n",
    "merged.to_csv(\"dataframe.tsv\", sep='\\t')\n",
    "\n",
    "# Format resulting TSV file to play nicely with Terra \n",
    "# Read the TSV you just made\n",
    "with open('dataframe.tsv', \"r+\") as file1:\n",
    "    # Save the first line as a string\n",
    "    header = file1.readline()\n",
    "    # Save everything else as a different variable\n",
    "    everything_else = file1.readlines()\n",
    "    file1.close()\n",
    "# Make the header string Terra requires\n",
    "full_header=\"entity:\"+OUTPUT_TABLE+\"_id\"+header\n",
    "\n",
    "# Make a new TSV\n",
    "with open('merged.tsv', \"a\") as file2:\n",
    "    # Give it the header Terra requires\n",
    "    file2.write(full_header)\n",
    "    # Slap in everything else\n",
    "    for string in everything_else:\n",
    "        file2.write(string)\n",
    "    file2.close()\n",
    "\n",
    "# Upload\n",
    "response = fapi.upload_entities_tsv(BILLING_PROJECT_ID, WORKSPACE, \"merged.tsv\", \"flexible\")\n",
    "fapi._check_response_code(response, 200)\n",
    "\n",
    "# Clean up\n",
    "!rm dataframe.tsv\n",
    "\n",
    "! gsutil cp merged.tsv $BUCKET"
   ]
  },
  {
   "cell_type": "markdown",
   "metadata": {},
   "source": [
    "# Combine all datatables"
   ]
  },
  {
   "cell_type": "code",
   "execution_count": null,
   "metadata": {
    "scrolled": true
   },
   "outputs": [],
   "source": [
    "logger.setLevel(logging.WARNING)\n",
    "consolidate_gen3_geno_tables(\"gen3_data\")"
   ]
  },
  {
   "cell_type": "markdown",
   "metadata": {},
   "source": [
    "### Important note on assumptions made\n",
    "This notebook was designed to form a datatable where each row represents one subject, and each cell in a given row is metadata for a certain type of TOPMed data for the row's subject. This means things get a bit awkward if your TOPMed data isn't 1-to-1.\n",
    "\n",
    "For this reason, simple_germline_variation and germline_variation_index are EXCLUDED from a genotypic merge. This is because we believe study/cohort level VCFs to be more useful to researchers, and because some TOPMed studies do not have VCF/CSI for every CRAM, resulting in some empty cells in a dataframe.\n",
    "\n",
    "If your data has more than one sample taken per subject, only one of those samples (and resulting CRAM files) will be put into the dataset. Consider the following situation: You have imported the following tables from TOPMed, diand see the following tables in your Data section...\n",
    "* aliquot (12)\n",
    "* program (1)\n",
    "* project (1)\n",
    "* read_group (12)\n",
    "* sample (12)\n",
    "* study (1)\n",
    "* subject (3)\n",
    "* subject_set (1)\n",
    "* submitted_aligned_reads (12)\n",
    "\n",
    "In this situation, there are only three subjects, and each subject had four samples taken. Each of these samples were used to generate a CRAM file.\n",
    "\n",
    "Tablesmasher will only select one CRAM (and sample, and aliquot, etc) to represent each subject. This CRAM will be the first one selected. You will know this is going on because when running the function below, because a warning will tell you that 9 duplicate entries have been removed. These are duplicates in the sense that the subject fields are duplicates, even though the CRAMs might be different.\n",
    "\n",
    "A different mismatch can occur even before consolidating on subjects. Consider these tables:\n",
    "* aliquot (1000)\n",
    "* germline_variation_index (950)\n",
    "* program (1)\n",
    "* project (1)\n",
    "* sample (1000)\n",
    "* simple_germline_variation (950)\n",
    "* subject (999)\n",
    "* submitted_aligned_reads (1000)\n",
    "\n",
    "Not only does it look like someone got sequenced twice, there's 50 less VCF (submitted_aligned_reads) and CSI (germline_variation_index) files than there are CRAMs (submitted_aligned_reads). In this case, you will see two warnings -- first of all, you will be notified of the possibility of empty cells, because some CRAMs will not be matched to VCF and CSI files. You'll be told there is expected to be 50 empty cells. Then, you will be notified by the dropping of one of the rows, due to a subject getting sequenced twice. So, your final datatable will have 99 rows."
   ]
  },
  {
   "cell_type": "code",
   "execution_count": null,
   "metadata": {},
   "outputs": [],
   "source": []
  },
  {
   "cell_type": "markdown",
   "metadata": {},
   "source": [
    "Set the BYOD cram links to have column name of submitted_aligned_reads_object_id, then combine on that column name for the other df."
   ]
  },
  {
   "cell_type": "code",
   "execution_count": null,
   "metadata": {},
   "outputs": [],
   "source": []
  },
  {
   "cell_type": "markdown",
   "metadata": {},
   "source": [
    "so one of the problems implict here is your BYOD tables look like one of three cases:\n",
    "\n",
    "### Case A --> supported for one Gen3 merge only, not sure if should support mega Gen3\n",
    "\n",
    "| name | URI |\n",
    "|-------|------------|\n",
    "| cram1 | gs://cram1 |\n",
    "| cram2 | gs://cram2 |\n",
    "| cram3 | gs://cram3 |\n",
    "| cram4 | gs://cram4 |\n",
    "\n",
    "Table created by File Finder.\n",
    "All files are of one type. \n",
    "\n",
    "ERGO:\n",
    "* If merged with one Gen3 table: Not a problem as long as the table is of the same file type (in this case CRAMs)\n",
    "* If merged with mega Gen3 table: Will result in empty rows as BYOD is only of one type\n",
    "\n",
    "### Case B --> will not be supported\n",
    "| name | URI |\n",
    "|-------|------------|\n",
    "| cram1 | gs://cram1 |\n",
    "| crai1 | gs://crai1 |\n",
    "| cram2 | gs://cram2 |\n",
    "| crai2 | gs://crai2 |\n",
    "\n",
    "Table created by File Finder.\n",
    "Files can be of many types, with one file type per row.\n",
    "\n",
    "ERGO:\n",
    "* If merged with one Gen3 table: Probably impossible\n",
    "* If merged with mega Gen3 table: Probably impossible\n",
    "\n",
    "*Side note: This is an indication that the arbitarary # of children method of Paternity Test (see below) may be necessary -- merging more than one BYOD type with a Gen3 data table.*\n",
    "\n",
    "### Case C --> should be supported ideally?\n",
    "| parent | URI | child1 | child1 URI |\n",
    "|--------|------------|--------|------------|\n",
    "| cram1 | gs://cram1 | crai1 | gs://crai1 |\n",
    "| cram2 | gs://cram2 | crai2 | gs://crai2 |\n",
    "| cram3 | gs://cram3 | crai3 | gs://crai3 |\n",
    "\n",
    "Table created by Paternity Test.\n",
    "One parent and an arbitrary number of children per row.\n",
    "\n",
    "ERGO:\n",
    "* If merged with one Gen3 table: Would result in empty rows\n",
    "* If merged with mega Gen3 table: Would be a total pain to program"
   ]
  }
 ],
 "metadata": {
  "kernelspec": {
   "display_name": "Python 3",
   "language": "python",
   "name": "python3"
  },
  "language_info": {
   "codemirror_mode": {
    "name": "ipython",
    "version": 3
   },
   "file_extension": ".py",
   "mimetype": "text/x-python",
   "name": "python",
   "nbconvert_exporter": "python",
   "pygments_lexer": "ipython3",
   "version": "3.7.7"
  },
  "toc": {
   "base_numbering": 1,
   "nav_menu": {},
   "number_sections": true,
   "sideBar": true,
   "skip_h1_title": false,
   "title_cell": "Table of Contents",
   "title_sidebar": "Contents",
   "toc_cell": false,
   "toc_position": {},
   "toc_section_display": true,
   "toc_window_display": false
  }
 },
 "nbformat": 4,
 "nbformat_minor": 2
}
