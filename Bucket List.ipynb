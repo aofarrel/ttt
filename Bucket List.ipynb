{
 "cells": [
  {
   "cell_type": "markdown",
   "metadata": {},
   "source": [
    " # Bucket List\n",
    " \n",
    "The goal here is to generate a Terra data table from files that a user has already uploaded into a workspace bucket. This can already be done on a local UNIX/UNIX-like machine using shell scripts, but that isn't ideal for certain BYOD scenarios. We need a way to do it programmatically (as there might be hundreds of files) and on the cloud (as the files might be coming from Windows, or the user doesn't know how to run a shell script).\n",
    "\n",
    "This notebook was complied by Ash O'Farrell at UCSC and borrows heavily from code by Brian Hannafious at UCSC."
   ]
  },
  {
   "cell_type": "markdown",
   "metadata": {},
   "source": [
    "## Do imports (must restart kernal after this code block but before running the other code blocks)"
   ]
  },
  {
   "cell_type": "code",
   "execution_count": null,
   "metadata": {},
   "outputs": [],
   "source": [
    "import io\n",
    "import os\n",
    "from datetime import datetime\n",
    "import json\n",
    "\n",
    "from firecloud import fiss\n",
    "from firecloud.errors import FireCloudServerError\n",
    "import firecloud.api as fapi\n",
    "import numpy as np\n",
    "import pandas as pd\n",
    "# import pysnooper"
   ]
  },
  {
   "cell_type": "markdown",
   "metadata": {},
   "source": [
    "## User-set variables"
   ]
  },
  {
   "cell_type": "code",
   "execution_count": null,
   "metadata": {},
   "outputs": [],
   "source": [
    "# Don't forgot the quotation marks!\n",
    "BILLING_PROJECT_ID=\"biodata-catalyst\"\n",
    "WORKSPACE=\"TSV-AFY\"\n",
    "SUBDIRECTORY=\"\\/case1\\/\"\n",
    "TABLE_NAME=\"CRAMs\""
   ]
  },
  {
   "cell_type": "markdown",
   "metadata": {},
   "source": [
    "Make sure to escape the slashes in your SUBDIRECTORY variable. For instance, if your files are in a folder called \"testfiles\" you will need to enter it as \"/\\testfiles/\\\" or else Python will get angry."
   ]
  },
  {
   "cell_type": "markdown",
   "metadata": {},
   "source": [
    "## Set other variables and check FireCloud API"
   ]
  },
  {
   "cell_type": "code",
   "execution_count": null,
   "metadata": {},
   "outputs": [],
   "source": [
    "try:\n",
    "    bucket = os.environ[\"WORKSPACE_BUCKET\"]\n",
    "    response = fapi.list_entity_types(BILLING_PROJECT_ID, WORKSPACE)\n",
    "    if response.status_code != 200:\n",
    "        print(\"Error in Firecloud, check your billing project ID and the name of your workspace.\")\n",
    "    else:\n",
    "        print(\"Firecloud has found your workspace!\")\n",
    "        directory = bucket + SUBDIRECTORY\n",
    "except NameError:\n",
    "    print(\"Caught a NameError exception. This probably means you didn't restart the kernal after\"\n",
    "          \" running the first block of code (the one with all the imports). Run it again, restart\"\n",
    "          \" the kernal, then try running every block of code (including the import one) again.\")"
   ]
  },
  {
   "cell_type": "markdown",
   "metadata": {},
   "source": [
    "## Display the contents of your workspace bucket (optional, you may want to skip this if you're dealing with lots of files)"
   ]
  },
  {
   "cell_type": "code",
   "execution_count": null,
   "metadata": {},
   "outputs": [],
   "source": [
    "!gsutil ls $directory"
   ]
  },
  {
   "cell_type": "markdown",
   "metadata": {},
   "source": [
    "## Do magic to create a TSV file"
   ]
  },
  {
   "cell_type": "code",
   "execution_count": null,
   "metadata": {},
   "outputs": [],
   "source": [
    "# Append contents.txt with ls\n",
    "!gsutil ls $directory > contentlocations.txt\n",
    "# Append each line with their file names + full address of where the files live in your google bucket\n",
    "!cat contentlocations.txt | sed 's@.*/@@' > filenames.txt\n",
    "!paste filenames.txt contentlocations.txt > combined.txt\n",
    "# Set up header that Terra requires for data tables\n",
    "#headerstring = \"entity:\" + TABLE_NAME + \"_id\\tfile_location\" #tab somehow gets converted to a space??\n",
    "!touch temp.txt\n",
    "!echo \"entity:$TABLE_NAME\"\"_id\\tfile_location\" >> temp.txt\n",
    "!cat temp.txt combined.txt > final.tsv\n",
    "# Clean up your directory\n",
    "!rm filenames.txt contentlocations.txt temp.txt"
   ]
  },
  {
   "cell_type": "markdown",
   "metadata": {},
   "source": [
    "## Inspect TSV file (optional, you may want to skip this if you're dealing with lots of files)"
   ]
  },
  {
   "cell_type": "code",
   "execution_count": null,
   "metadata": {},
   "outputs": [],
   "source": [
    "!cat final.tsv"
   ]
  },
  {
   "cell_type": "markdown",
   "metadata": {},
   "source": [
    "## Upload TSV file as a Terra data table"
   ]
  },
  {
   "cell_type": "code",
   "execution_count": null,
   "metadata": {},
   "outputs": [],
   "source": [
    "response = fapi.upload_entities_tsv(BILLING_PROJECT_ID, WORKSPACE, \"final.tsv\", \"flexible\")\n",
    "fapi._check_response_code(response, 200)"
   ]
  },
  {
   "cell_type": "markdown",
   "metadata": {},
   "source": [
    "## DEBUG: Download TSV so I can try importing it via the GUI"
   ]
  },
  {
   "cell_type": "code",
   "execution_count": null,
   "metadata": {},
   "outputs": [],
   "source": [
    "!gsutil cp final.tsv $bucket"
   ]
  }
 ],
 "metadata": {
  "kernelspec": {
   "display_name": "Python 3",
   "language": "python",
   "name": "python3"
  },
  "language_info": {
   "codemirror_mode": {
    "name": "ipython",
    "version": 3
   },
   "file_extension": ".py",
   "mimetype": "text/x-python",
   "name": "python",
   "nbconvert_exporter": "python",
   "pygments_lexer": "ipython3",
   "version": "3.7.7"
  },
  "toc": {
   "base_numbering": 1,
   "nav_menu": {},
   "number_sections": true,
   "sideBar": true,
   "skip_h1_title": false,
   "title_cell": "Table of Contents",
   "title_sidebar": "Contents",
   "toc_cell": false,
   "toc_position": {},
   "toc_section_display": true,
   "toc_window_display": false
  }
 },
 "nbformat": 4,
 "nbformat_minor": 2
}
